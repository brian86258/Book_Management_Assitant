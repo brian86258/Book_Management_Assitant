{
 "cells": [
  {
   "cell_type": "code",
   "execution_count": 4,
   "id": "intimate-oxford",
   "metadata": {},
   "outputs": [],
   "source": [
    "from __future__ import print_function\n",
    "import cv2\n",
    "import pyzbar.pyzbar as pyzbar\n",
    "import numpy as np\n"
   ]
  },
  {
   "cell_type": "code",
   "execution_count": 5,
   "id": "institutional-archive",
   "metadata": {},
   "outputs": [],
   "source": [
    "def decode(im) : \n",
    "    # Find barcodes and QR codes\n",
    "    decodedObjects = pyzbar.decode(im)\n",
    "\n",
    "    # Print results\n",
    "    for obj in decodedObjects:\n",
    "        print('Type : ', obj.type)\n",
    "        print('Data : ', obj.data,'\\n')\n",
    "\n",
    "    return decodedObjects\n",
    "\n",
    "\n",
    "# Display barcode and QR code location  \n",
    "def display(im, decodedObjects):\n",
    "\n",
    "    # Loop over all decoded objects\n",
    "    for decodedObject in decodedObjects: \n",
    "        points = decodedObject.polygon\n",
    "\n",
    "        # If the points do not form a quad, find convex hull\n",
    "        if len(points) > 4 : \n",
    "            hull = cv2.convexHull(np.array([point for point in points], dtype=np.float32))\n",
    "            hull = list(map(tuple, np.squeeze(hull)))\n",
    "        else : \n",
    "            hull = points;\n",
    "\n",
    "        # Number of points in the convex hull\n",
    "        n = len(hull)\n",
    "\n",
    "        # Draw the convext hull\n",
    "        for j in range(0,n):\n",
    "            cv2.line(im, hull[j], hull[ (j+1) % n], (255,0,0), 3)\n",
    "\n",
    "    # Display results \n",
    "    cv2.imshow(\"Results\", im);\n",
    "    cv2.waitKey(0);\n",
    "\n",
    "\n",
    "# Main \n",
    "# if __name__ == '__main__':\n",
    "\n",
    "#     # Read image\n",
    "#     im = cv2.imread('zbar-test.jpg')\n",
    "\n",
    "#     decodedObjects = decode(im)\n",
    "#     display(im, decodedObjects)"
   ]
  },
  {
   "cell_type": "code",
   "execution_count": null,
   "id": "rubber-hampshire",
   "metadata": {},
   "outputs": [],
   "source": []
  }
 ],
 "metadata": {
  "kernelspec": {
   "display_name": "Python 3",
   "language": "python",
   "name": "python3"
  },
  "language_info": {
   "codemirror_mode": {
    "name": "ipython",
    "version": 3
   },
   "file_extension": ".py",
   "mimetype": "text/x-python",
   "name": "python",
   "nbconvert_exporter": "python",
   "pygments_lexer": "ipython3",
   "version": "3.8.5"
  },
  "toc": {
   "base_numbering": 1,
   "nav_menu": {},
   "number_sections": true,
   "sideBar": true,
   "skip_h1_title": false,
   "title_cell": "Table of Contents",
   "title_sidebar": "Contents",
   "toc_cell": false,
   "toc_position": {},
   "toc_section_display": true,
   "toc_window_display": false
  },
  "varInspector": {
   "cols": {
    "lenName": 16,
    "lenType": 16,
    "lenVar": 40
   },
   "kernels_config": {
    "python": {
     "delete_cmd_postfix": "",
     "delete_cmd_prefix": "del ",
     "library": "var_list.py",
     "varRefreshCmd": "print(var_dic_list())"
    },
    "r": {
     "delete_cmd_postfix": ") ",
     "delete_cmd_prefix": "rm(",
     "library": "var_list.r",
     "varRefreshCmd": "cat(var_dic_list()) "
    }
   },
   "types_to_exclude": [
    "module",
    "function",
    "builtin_function_or_method",
    "instance",
    "_Feature"
   ],
   "window_display": false
  }
 },
 "nbformat": 4,
 "nbformat_minor": 5
}
